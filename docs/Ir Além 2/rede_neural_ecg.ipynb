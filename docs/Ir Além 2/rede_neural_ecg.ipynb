{
  "cells": [
    {
      "cell_type": "markdown",
      "metadata": {
        "id": "1AaTUzahsZsz"
      },
      "source": [
        "# Ir Além 2 — Classificação de ECG com MLP (Keras)\n",
        "\n",
        "Neste notebook vamos:\n",
        "- Baixar o dataset público do Kaggle (`heartbeat`)\n",
        "- Pré-processar os sinais em imagens\n",
        "- Treinar uma rede MLP (Perceptron Multicamadas) para classificar ECG em **normal vs. anormal**\n"
      ],
      "id": "1AaTUzahsZsz"
    },
    {
      "cell_type": "code",
      "execution_count": 1,
      "metadata": {
        "id": "b8Tc9PSMsZs2",
        "colab": {
          "base_uri": "https://localhost:8080/"
        },
        "outputId": "d759593b-9648-46d8-b5fe-df0a919bbb7f"
      },
      "outputs": [
        {
          "output_type": "stream",
          "name": "stdout",
          "text": [
            "\u001b[31mERROR: pip's dependency resolver does not currently take into account all the packages that are installed. This behaviour is the source of the following dependency conflicts.\n",
            "ipython 7.34.0 requires jedi>=0.16, which is not installed.\n",
            "google-colab 1.0.0 requires requests==2.32.4, but you have requests 2.32.5 which is incompatible.\n",
            "tensorflow-text 2.19.0 requires tensorflow<2.20,>=2.19.0, but you have tensorflow 2.16.1 which is incompatible.\n",
            "thinc 8.3.6 requires numpy<3.0.0,>=2.0.0, but you have numpy 1.26.4 which is incompatible.\n",
            "jax 0.5.3 requires ml_dtypes>=0.4.0, but you have ml-dtypes 0.3.2 which is incompatible.\n",
            "grpcio-status 1.71.2 requires protobuf<6.0dev,>=5.26.1, but you have protobuf 4.25.8 which is incompatible.\n",
            "tf-keras 2.19.0 requires tensorflow<2.20,>=2.19, but you have tensorflow 2.16.1 which is incompatible.\n",
            "opencv-python 4.12.0.88 requires numpy<2.3.0,>=2; python_version >= \"3.9\", but you have numpy 1.26.4 which is incompatible.\n",
            "tensorstore 0.1.76 requires ml_dtypes>=0.5.0, but you have ml-dtypes 0.3.2 which is incompatible.\n",
            "opencv-python-headless 4.12.0.88 requires numpy<2.3.0,>=2; python_version >= \"3.9\", but you have numpy 1.26.4 which is incompatible.\n",
            "umap-learn 0.5.9.post2 requires scikit-learn>=1.6, but you have scikit-learn 1.5.1 which is incompatible.\n",
            "tensorflow-decision-forests 1.12.0 requires tensorflow==2.19.0, but you have tensorflow 2.16.1 which is incompatible.\n",
            "opencv-contrib-python 4.12.0.88 requires numpy<2.3.0,>=2; python_version >= \"3.9\", but you have numpy 1.26.4 which is incompatible.\n",
            "bigframes 2.21.0 requires rich<14,>=12.4.4, but you have rich 14.1.0 which is incompatible.\n",
            "ydf 0.13.0 requires protobuf<7.0.0,>=5.29.1, but you have protobuf 4.25.8 which is incompatible.\u001b[0m\u001b[31m\n",
            "\u001b[0m"
          ]
        }
      ],
      "source": [
        "!pip install -q tensorflow==2.16.1 pillow==10.3.0 scikit-learn==1.5.1 kaggle==1.6.14 numpy==1.26.4 --force-reinstall\n"
      ],
      "id": "b8Tc9PSMsZs2"
    },
    {
      "cell_type": "markdown",
      "metadata": {
        "id": "JySOnuJ2sZs4"
      },
      "source": [
        "## 0) Baixar dataset do Kaggle"
      ],
      "id": "JySOnuJ2sZs4"
    },
    {
      "cell_type": "code",
      "execution_count": 2,
      "metadata": {
        "colab": {
          "base_uri": "https://localhost:8080/"
        },
        "id": "g31V3S7UsZs4",
        "outputId": "7cdf38f9-dad5-4cdd-903b-0bc3712b58ef"
      },
      "outputs": [
        {
          "output_type": "stream",
          "name": "stdout",
          "text": [
            "cp: cannot stat '/content/kaggle.json': No such file or directory\n",
            "chmod: cannot access '/root/.kaggle/kaggle.json': No such file or directory\n",
            "Warning: Looks like you're using an outdated API Version, please consider updating (server 1.7.4.2 / client 1.6.14)\n",
            "Dataset URL: https://www.kaggle.com/datasets/shayanfazeli/heartbeat\n",
            "License(s): unknown\n",
            "heartbeat.zip: Skipping, found more recently modified local copy (use --force to force download)\n",
            "replace /content/mitbih_test.csv? [y]es, [n]o, [A]ll, [N]one, [r]ename: A\n"
          ]
        }
      ],
      "source": [
        "# Copiar seu kaggle.json (já deve estar em /content)\n",
        "!mkdir -p ~/.kaggle\n",
        "!cp /content/kaggle.json ~/.kaggle/\n",
        "!chmod 600 ~/.kaggle/kaggle.json\n",
        "\n",
        "# Baixar dataset heartbeat\n",
        "!kaggle datasets download -d shayanfazeli/heartbeat -p /content/\n",
        "\n",
        "# Descompactar\n",
        "!unzip -q /content/heartbeat.zip -d /content/"
      ],
      "id": "g31V3S7UsZs4"
    },
    {
      "cell_type": "markdown",
      "metadata": {
        "id": "QqJS4ObTsZs5"
      },
      "source": [
        "## 0.1) Converter CSVs em imagens para usar no MLP"
      ],
      "id": "QqJS4ObTsZs5"
    },
    {
      "cell_type": "code",
      "execution_count": 3,
      "metadata": {
        "colab": {
          "base_uri": "https://localhost:8080/"
        },
        "id": "35h31vB5sZs6",
        "outputId": "16597d2b-6e9b-4c04-b4bb-51273496a297"
      },
      "outputs": [
        {
          "output_type": "stream",
          "name": "stdout",
          "text": [
            "Antes do balanceamento -> Normal: (4046, 188) Anormal: (10506, 188)\n",
            "Após balanceamento -> Normal: (4046, 188) Anormal: (4046, 188)\n"
          ]
        }
      ],
      "source": [
        "import os, numpy as np, pandas as pd, matplotlib.pyplot as plt\n",
        "from PIL import Image\n",
        "from sklearn.utils import resample\n",
        "\n",
        "BASE_DIR = \"/content/\"\n",
        "OUT_DIR = \"/content/ecg\"\n",
        "\n",
        "os.makedirs(os.path.join(OUT_DIR, \"normal\"), exist_ok=True)\n",
        "os.makedirs(os.path.join(OUT_DIR, \"abnormal\"), exist_ok=True)\n",
        "\n",
        "# Arquivos do Kaggle (dataset heartbeat)\n",
        "normal_csv = os.path.join(BASE_DIR, \"ptbdb_normal.csv\") # Corrected path\n",
        "abnormal_csv = os.path.join(BASE_DIR, \"ptbdb_abnormal.csv\") # Corrected path\n",
        "\n",
        "# Carregar os CSVs\n",
        "df_normal = pd.read_csv(normal_csv, header=None)\n",
        "df_abnormal = pd.read_csv(abnormal_csv, header=None)\n",
        "\n",
        "print(\"Antes do balanceamento -> Normal:\", df_normal.shape, \"Anormal:\", df_abnormal.shape)\n",
        "\n",
        "# Balancear dataset (undersampling da classe maior (anormal) para igualar à menor (normal))\n",
        "df_abnormal_bal = resample(df_abnormal,\n",
        "                         replace=False,\n",
        "                         n_samples=len(df_normal),\n",
        "                         random_state=42)\n",
        "\n",
        "print(\"Após balanceamento -> Normal:\", df_normal.shape, \"Anormal:\", df_abnormal_bal.shape)\n",
        "\n",
        "\n",
        "# Combine the balanced dataframes\n",
        "df_balanced = pd.concat([df_normal, df_abnormal_bal])\n",
        "\n",
        "\n",
        "# Função para converter sinais em imagens\n",
        "def save_signals_as_images(df, out_dir, label):\n",
        "    for i, row in df.iterrows():\n",
        "        signal = row.values[:-1]  # últimos valores = rótulo\n",
        "        img = np.expand_dims(signal, axis=0)  # linha única\n",
        "        img = np.tile(img, (128, 1))  # esticar para \"imagem\"\n",
        "        im = Image.fromarray((img * 255).astype(np.uint8))\n",
        "        im = im.resize((128,128))\n",
        "        im.save(os.path.join(out_dir, f\"{label}_{i}.png\"))\n",
        "\n",
        "# Salvar imagens normal e anormal do dataset balanceado\n",
        "save_signals_as_images(df_normal, os.path.join(OUT_DIR,\"normal\"), \"normal\")\n",
        "save_signals_as_images(df_abnormal_bal, os.path.join(OUT_DIR,\"abnormal\"), \"abnormal\")"
      ],
      "id": "35h31vB5sZs6"
    },
    {
      "cell_type": "markdown",
      "metadata": {
        "id": "HyKdlV74sZs6"
      },
      "source": [
        "## 1) Imports e configuração"
      ],
      "id": "HyKdlV74sZs6"
    },
    {
      "cell_type": "code",
      "execution_count": null,
      "metadata": {
        "id": "VBF6bvH5sZs7"
      },
      "outputs": [],
      "source": [
        "import os, glob, numpy as np, random\n",
        "from PIL import Image\n",
        "import tensorflow as tf\n",
        "from tensorflow.keras import layers, models\n",
        "from sklearn.model_selection import train_test_split\n",
        "from sklearn.metrics import classification_report, confusion_matrix, ConfusionMatrixDisplay\n",
        "import matplotlib.pyplot as plt\n",
        "\n",
        "SEED = 42\n",
        "random.seed(SEED); np.random.seed(SEED); tf.random.set_seed(SEED)\n",
        "\n",
        "DATA_DIR = '/content/ecg'  # agora já temos pastas normal/ e abnormal/\n",
        "NORMAL_DIR = os.path.join(DATA_DIR, 'normal')\n",
        "ABN_DIR = os.path.join(DATA_DIR, 'abnormal')\n",
        "\n",
        "IMG_SIZE = (128, 128)  # simples para MLP\n"
      ],
      "id": "VBF6bvH5sZs7"
    },
    {
      "cell_type": "markdown",
      "metadata": {
        "id": "gtObXfiBsZs7"
      },
      "source": [
        "## 2) Carregar imagens e rótulos"
      ],
      "id": "gtObXfiBsZs7"
    },
    {
      "cell_type": "code",
      "execution_count": null,
      "metadata": {
        "colab": {
          "base_uri": "https://localhost:8080/"
        },
        "id": "uRp5J9QVsZs7",
        "outputId": "193323a8-6770-4776-d250-f48ea3cb8ee9"
      },
      "outputs": [
        {
          "output_type": "stream",
          "name": "stdout",
          "text": [
            "Total imagens: 8092  - Normal: 4046  - Anormal: 4046\n",
            "Split realizado -> Treino: (6069, 128, 128) Teste: (2023, 128, 128)\n"
          ]
        }
      ],
      "source": [
        "from sklearn.model_selection import train_test_split\n",
        "\n",
        "def load_images_from_folder(folder, label):\n",
        "    X, y = [], []\n",
        "    for fp in glob.glob(os.path.join(folder, '*')):\n",
        "        try:\n",
        "            img = Image.open(fp).convert('L').resize(IMG_SIZE)\n",
        "            X.append(np.array(img) / 255.0)  # normaliza aqui (0-1)\n",
        "            y.append(label)\n",
        "        except Exception as e:\n",
        "            print('Erro ao ler', fp, e)\n",
        "    return X, y\n",
        "\n",
        "# Carregar imagens normais e anormais\n",
        "Xn, yn = load_images_from_folder(NORMAL_DIR, 0)\n",
        "Xa, ya = load_images_from_folder(ABN_DIR, 1)\n",
        "\n",
        "# Concatenar\n",
        "X = np.array(Xn + Xa)\n",
        "y = np.array(yn + ya)\n",
        "\n",
        "print('Total imagens:', len(X), ' - Normal:', len(Xn), ' - Anormal:', len(Xa))\n",
        "\n",
        "# Separar em treino e teste diretamente nesta célula\n",
        "X_train, X_test, y_train, y_test = train_test_split(\n",
        "    X, y, test_size=0.25, random_state=42, stratify=y\n",
        ")\n",
        "\n",
        "print(\"Split realizado -> Treino:\", X_train.shape, \"Teste:\", X_test.shape)\n"
      ],
      "id": "uRp5J9QVsZs7"
    },
    {
      "cell_type": "markdown",
      "metadata": {
        "id": "tx-rQv3vsZs8"
      },
      "source": [
        "## 3) Preparar dados e criar MLP"
      ],
      "id": "tx-rQv3vsZs8"
    },
    {
      "cell_type": "code",
      "execution_count": null,
      "metadata": {
        "colab": {
          "base_uri": "https://localhost:8080/"
        },
        "id": "qkyI6r_fsZs9",
        "outputId": "2b7dc595-f9fe-475e-fc93-475a799fbfae"
      },
      "outputs": [
        {
          "output_type": "stream",
          "name": "stdout",
          "text": [
            "Novo shape -> Treino: (6069, 128, 128, 1) Teste: (2023, 128, 128, 1)\n"
          ]
        },
        {
          "output_type": "stream",
          "name": "stderr",
          "text": [
            "/usr/local/lib/python3.12/dist-packages/keras/src/layers/reshaping/flatten.py:37: UserWarning: Do not pass an `input_shape`/`input_dim` argument to a layer. When using Sequential models, prefer using an `Input(shape)` object as the first layer in the model instead.\n",
            "  super().__init__(**kwargs)\n"
          ]
        },
        {
          "output_type": "stream",
          "name": "stdout",
          "text": [
            "Epoch 1/20\n",
            "\u001b[1m95/95\u001b[0m \u001b[32m━━━━━━━━━━━━━━━━━━━━\u001b[0m\u001b[37m\u001b[0m \u001b[1m9s\u001b[0m 78ms/step - accuracy: 0.7184 - loss: 0.5700 - val_accuracy: 0.7202 - val_loss: 0.5462\n",
            "Epoch 2/20\n",
            "\u001b[1m95/95\u001b[0m \u001b[32m━━━━━━━━━━━━━━━━━━━━\u001b[0m\u001b[37m\u001b[0m \u001b[1m6s\u001b[0m 60ms/step - accuracy: 0.7820 - loss: 0.4784 - val_accuracy: 0.7672 - val_loss: 0.4781\n",
            "Epoch 3/20\n",
            "\u001b[1m95/95\u001b[0m \u001b[32m━━━━━━━━━━━━━━━━━━━━\u001b[0m\u001b[37m\u001b[0m \u001b[1m7s\u001b[0m 71ms/step - accuracy: 0.8013 - loss: 0.4478 - val_accuracy: 0.7850 - val_loss: 0.4478\n",
            "Epoch 4/20\n",
            "\u001b[1m95/95\u001b[0m \u001b[32m━━━━━━━━━━━━━━━━━━━━\u001b[0m\u001b[37m\u001b[0m \u001b[1m6s\u001b[0m 59ms/step - accuracy: 0.8122 - loss: 0.4250 - val_accuracy: 0.7954 - val_loss: 0.4334\n",
            "Epoch 5/20\n",
            "\u001b[1m95/95\u001b[0m \u001b[32m━━━━━━━━━━━━━━━━━━━━\u001b[0m\u001b[37m\u001b[0m \u001b[1m7s\u001b[0m 71ms/step - accuracy: 0.8258 - loss: 0.4012 - val_accuracy: 0.7983 - val_loss: 0.4217\n",
            "Epoch 6/20\n",
            "\u001b[1m95/95\u001b[0m \u001b[32m━━━━━━━━━━━━━━━━━━━━\u001b[0m\u001b[37m\u001b[0m \u001b[1m10s\u001b[0m 72ms/step - accuracy: 0.8369 - loss: 0.3845 - val_accuracy: 0.8003 - val_loss: 0.4103\n",
            "Epoch 7/20\n",
            "\u001b[1m95/95\u001b[0m \u001b[32m━━━━━━━━━━━━━━━━━━━━\u001b[0m\u001b[37m\u001b[0m \u001b[1m5s\u001b[0m 57ms/step - accuracy: 0.8453 - loss: 0.3636 - val_accuracy: 0.7983 - val_loss: 0.4098\n",
            "Epoch 8/20\n",
            "\u001b[1m95/95\u001b[0m \u001b[32m━━━━━━━━━━━━━━━━━━━━\u001b[0m\u001b[37m\u001b[0m \u001b[1m7s\u001b[0m 74ms/step - accuracy: 0.8527 - loss: 0.3468 - val_accuracy: 0.8067 - val_loss: 0.3913\n",
            "Epoch 9/20\n",
            "\u001b[1m95/95\u001b[0m \u001b[32m━━━━━━━━━━━━━━━━━━━━\u001b[0m\u001b[37m\u001b[0m \u001b[1m9s\u001b[0m 61ms/step - accuracy: 0.8586 - loss: 0.3340 - val_accuracy: 0.8211 - val_loss: 0.3802\n",
            "Epoch 10/20\n",
            "\u001b[1m95/95\u001b[0m \u001b[32m━━━━━━━━━━━━━━━━━━━━\u001b[0m\u001b[37m\u001b[0m \u001b[1m7s\u001b[0m 71ms/step - accuracy: 0.8682 - loss: 0.3157 - val_accuracy: 0.8186 - val_loss: 0.3904\n",
            "Epoch 11/20\n",
            "\u001b[1m95/95\u001b[0m \u001b[32m━━━━━━━━━━━━━━━━━━━━\u001b[0m\u001b[37m\u001b[0m \u001b[1m5s\u001b[0m 57ms/step - accuracy: 0.8735 - loss: 0.3057 - val_accuracy: 0.8408 - val_loss: 0.3604\n",
            "Epoch 12/20\n",
            "\u001b[1m95/95\u001b[0m \u001b[32m━━━━━━━━━━━━━━━━━━━━\u001b[0m\u001b[37m\u001b[0m \u001b[1m10s\u001b[0m 57ms/step - accuracy: 0.8772 - loss: 0.2948 - val_accuracy: 0.8512 - val_loss: 0.3408\n",
            "Epoch 13/20\n",
            "\u001b[1m95/95\u001b[0m \u001b[32m━━━━━━━━━━━━━━━━━━━━\u001b[0m\u001b[37m\u001b[0m \u001b[1m7s\u001b[0m 71ms/step - accuracy: 0.8825 - loss: 0.2819 - val_accuracy: 0.8512 - val_loss: 0.3420\n",
            "Epoch 14/20\n",
            "\u001b[1m95/95\u001b[0m \u001b[32m━━━━━━━━━━━━━━━━━━━━\u001b[0m\u001b[37m\u001b[0m \u001b[1m6s\u001b[0m 60ms/step - accuracy: 0.8934 - loss: 0.2716 - val_accuracy: 0.8557 - val_loss: 0.3372\n",
            "Epoch 15/20\n",
            "\u001b[1m95/95\u001b[0m \u001b[32m━━━━━━━━━━━━━━━━━━━━\u001b[0m\u001b[37m\u001b[0m \u001b[1m7s\u001b[0m 76ms/step - accuracy: 0.8936 - loss: 0.2625 - val_accuracy: 0.8789 - val_loss: 0.3128\n",
            "Epoch 16/20\n",
            "\u001b[1m95/95\u001b[0m \u001b[32m━━━━━━━━━━━━━━━━━━━━\u001b[0m\u001b[37m\u001b[0m \u001b[1m6s\u001b[0m 60ms/step - accuracy: 0.9049 - loss: 0.2504 - val_accuracy: 0.8922 - val_loss: 0.2955\n",
            "Epoch 17/20\n",
            "\u001b[1m95/95\u001b[0m \u001b[32m━━━━━━━━━━━━━━━━━━━━\u001b[0m\u001b[37m\u001b[0m \u001b[1m11s\u001b[0m 65ms/step - accuracy: 0.9069 - loss: 0.2426 - val_accuracy: 0.8903 - val_loss: 0.3007\n",
            "Epoch 18/20\n",
            "\u001b[1m95/95\u001b[0m \u001b[32m━━━━━━━━━━━━━━━━━━━━\u001b[0m\u001b[37m\u001b[0m \u001b[1m15s\u001b[0m 113ms/step - accuracy: 0.9099 - loss: 0.2404 - val_accuracy: 0.8987 - val_loss: 0.2882\n",
            "Epoch 19/20\n",
            "\u001b[1m95/95\u001b[0m \u001b[32m━━━━━━━━━━━━━━━━━━━━\u001b[0m\u001b[37m\u001b[0m \u001b[1m7s\u001b[0m 77ms/step - accuracy: 0.9084 - loss: 0.2378 - val_accuracy: 0.9011 - val_loss: 0.2791\n",
            "Epoch 20/20\n",
            "\u001b[1m95/95\u001b[0m \u001b[32m━━━━━━━━━━━━━━━━━━━━\u001b[0m\u001b[37m\u001b[0m \u001b[1m6s\u001b[0m 60ms/step - accuracy: 0.9125 - loss: 0.2325 - val_accuracy: 0.8977 - val_loss: 0.2895\n",
            "Restoring model weights from the end of the best epoch: 19.\n"
          ]
        }
      ],
      "source": [
        "from tensorflow.keras.models import Sequential\n",
        "from tensorflow.keras.layers import Dense, Dropout, Flatten\n",
        "from tensorflow.keras.callbacks import EarlyStopping\n",
        "\n",
        "# Normalização (já está em escala 0-1 porque as imagens foram salvas com intensidade 0-255)\n",
        "X_train = X_train.reshape(-1, 128, 128, 1) / 255.0\n",
        "X_test  = X_test.reshape(-1, 128, 128, 1) / 255.0\n",
        "\n",
        "print(\"Novo shape -> Treino:\", X_train.shape, \"Teste:\", X_test.shape)\n",
        "\n",
        "# Criar o modelo MLP (versão 128x128)\n",
        "model = Sequential([\n",
        "    Flatten(input_shape=(128, 128, 1)),\n",
        "    Dense(256, activation='relu'),\n",
        "    Dropout(0.3),\n",
        "    Dense(128, activation='relu'),\n",
        "    Dropout(0.3),\n",
        "    Dense(1, activation='sigmoid')\n",
        "])\n",
        "\n",
        "# Compilar modelo\n",
        "model.compile(optimizer='adam', loss='binary_crossentropy', metrics=['accuracy'])\n",
        "\n",
        "# EarlyStopping -> para treino automaticamente se não melhorar\n",
        "early_stop = EarlyStopping(\n",
        "    monitor='val_loss',\n",
        "    patience=3,\n",
        "    restore_best_weights=True,\n",
        "    verbose=1\n",
        ")\n",
        "\n",
        "# Treinar o modelo\n",
        "history = model.fit(\n",
        "    X_train, y_train,\n",
        "    validation_data=(X_test, y_test),\n",
        "    epochs=20,            # pode deixar 20, foi o que usamos antes\n",
        "    batch_size=64,        # batch médio (nem muito pequeno, nem muito grande)\n",
        "    callbacks=[early_stop],\n",
        "    verbose=1\n",
        ")\n"
      ],
      "id": "qkyI6r_fsZs9"
    },
    {
      "cell_type": "markdown",
      "metadata": {
        "id": "_SMYwcLxsZs9"
      },
      "source": [
        "## 4) Treinar"
      ],
      "id": "_SMYwcLxsZs9"
    },
    {
      "cell_type": "code",
      "execution_count": null,
      "metadata": {
        "colab": {
          "base_uri": "https://localhost:8080/"
        },
        "id": "GwVywilRsZs9",
        "outputId": "3b4196ad-b70c-4b69-a4e6-f59ba3156525"
      },
      "outputs": [
        {
          "output_type": "stream",
          "name": "stdout",
          "text": [
            "Epoch 1/12\n",
            "\u001b[1m152/152\u001b[0m \u001b[32m━━━━━━━━━━━━━━━━━━━━\u001b[0m\u001b[37m\u001b[0m \u001b[1m9s\u001b[0m 61ms/step - accuracy: 0.9038 - loss: 0.2469 - val_accuracy: 0.9168 - val_loss: 0.2392\n",
            "Epoch 2/12\n",
            "\u001b[1m152/152\u001b[0m \u001b[32m━━━━━━━━━━━━━━━━━━━━\u001b[0m\u001b[37m\u001b[0m \u001b[1m10s\u001b[0m 62ms/step - accuracy: 0.9001 - loss: 0.2505 - val_accuracy: 0.9061 - val_loss: 0.2454\n",
            "Epoch 3/12\n",
            "\u001b[1m152/152\u001b[0m \u001b[32m━━━━━━━━━━━━━━━━━━━━\u001b[0m\u001b[37m\u001b[0m \u001b[1m10s\u001b[0m 64ms/step - accuracy: 0.9040 - loss: 0.2400 - val_accuracy: 0.9185 - val_loss: 0.2310\n",
            "Epoch 4/12\n",
            "\u001b[1m152/152\u001b[0m \u001b[32m━━━━━━━━━━━━━━━━━━━━\u001b[0m\u001b[37m\u001b[0m \u001b[1m8s\u001b[0m 53ms/step - accuracy: 0.9102 - loss: 0.2269 - val_accuracy: 0.9259 - val_loss: 0.2363\n",
            "Epoch 5/12\n",
            "\u001b[1m152/152\u001b[0m \u001b[32m━━━━━━━━━━━━━━━━━━━━\u001b[0m\u001b[37m\u001b[0m \u001b[1m9s\u001b[0m 60ms/step - accuracy: 0.9162 - loss: 0.2152 - val_accuracy: 0.9275 - val_loss: 0.2361\n",
            "Epoch 6/12\n",
            "\u001b[1m152/152\u001b[0m \u001b[32m━━━━━━━━━━━━━━━━━━━━\u001b[0m\u001b[37m\u001b[0m \u001b[1m10s\u001b[0m 60ms/step - accuracy: 0.9193 - loss: 0.2159 - val_accuracy: 0.9292 - val_loss: 0.2294\n",
            "Epoch 7/12\n",
            "\u001b[1m152/152\u001b[0m \u001b[32m━━━━━━━━━━━━━━━━━━━━\u001b[0m\u001b[37m\u001b[0m \u001b[1m9s\u001b[0m 56ms/step - accuracy: 0.9226 - loss: 0.2064 - val_accuracy: 0.9308 - val_loss: 0.2226\n",
            "Epoch 8/12\n",
            "\u001b[1m152/152\u001b[0m \u001b[32m━━━━━━━━━━━━━━━━━━━━\u001b[0m\u001b[37m\u001b[0m \u001b[1m9s\u001b[0m 60ms/step - accuracy: 0.9244 - loss: 0.2023 - val_accuracy: 0.9316 - val_loss: 0.2214\n",
            "Epoch 9/12\n",
            "\u001b[1m152/152\u001b[0m \u001b[32m━━━━━━━━━━━━━━━━━━━━\u001b[0m\u001b[37m\u001b[0m \u001b[1m9s\u001b[0m 61ms/step - accuracy: 0.9267 - loss: 0.1968 - val_accuracy: 0.9267 - val_loss: 0.2273\n",
            "Epoch 10/12\n",
            "\u001b[1m152/152\u001b[0m \u001b[32m━━━━━━━━━━━━━━━━━━━━\u001b[0m\u001b[37m\u001b[0m \u001b[1m9s\u001b[0m 58ms/step - accuracy: 0.9254 - loss: 0.2010 - val_accuracy: 0.9333 - val_loss: 0.2210\n",
            "Epoch 11/12\n",
            "\u001b[1m152/152\u001b[0m \u001b[32m━━━━━━━━━━━━━━━━━━━━\u001b[0m\u001b[37m\u001b[0m \u001b[1m8s\u001b[0m 54ms/step - accuracy: 0.9267 - loss: 0.1910 - val_accuracy: 0.9308 - val_loss: 0.2161\n",
            "Epoch 12/12\n",
            "\u001b[1m152/152\u001b[0m \u001b[32m━━━━━━━━━━━━━━━━━━━━\u001b[0m\u001b[37m\u001b[0m \u001b[1m9s\u001b[0m 61ms/step - accuracy: 0.9314 - loss: 0.1896 - val_accuracy: 0.9357 - val_loss: 0.2198\n"
          ]
        }
      ],
      "source": [
        "history = model.fit(X_train, y_train, validation_split=0.2, epochs=12, batch_size=32, verbose=1)"
      ],
      "id": "GwVywilRsZs9"
    },
    {
      "cell_type": "markdown",
      "metadata": {
        "id": "3Vte3nHEsZs9"
      },
      "source": [
        "## 5) Avaliar"
      ],
      "id": "3Vte3nHEsZs9"
    },
    {
      "cell_type": "code",
      "execution_count": null,
      "metadata": {
        "colab": {
          "base_uri": "https://localhost:8080/",
          "height": 646
        },
        "id": "LfK_Sr4vsZs-",
        "outputId": "c85c3cf9-ec2f-43db-c75e-061df2ef9305"
      },
      "outputs": [
        {
          "output_type": "stream",
          "name": "stdout",
          "text": [
            "\u001b[1m64/64\u001b[0m \u001b[32m━━━━━━━━━━━━━━━━━━━━\u001b[0m\u001b[37m\u001b[0m \u001b[1m1s\u001b[0m 13ms/step\n",
            "              precision    recall  f1-score   support\n",
            "\n",
            "      normal       0.88      0.95      0.92      1012\n",
            "     anormal       0.95      0.87      0.91      1011\n",
            "\n",
            "    accuracy                           0.91      2023\n",
            "   macro avg       0.92      0.91      0.91      2023\n",
            "weighted avg       0.92      0.91      0.91      2023\n",
            "\n"
          ]
        },
        {
          "output_type": "display_data",
          "data": {
            "text/plain": [
              "<Figure size 640x480 with 2 Axes>"
            ],
            "image/png": "[encoded data removed]"
          },
          "metadata": {}
        }
      ],
      "source": [
        "from sklearn.metrics import classification_report, confusion_matrix, ConfusionMatrixDisplay\n",
        "\n",
        "# Previsões\n",
        "pred = (model.predict(X_test) > 0.5).astype('int32').ravel()\n",
        "\n",
        "# Relatório de classificação forçando as 2 classes\n",
        "print(classification_report(\n",
        "    y_test,\n",
        "    pred,\n",
        "    labels=[0,1],\n",
        "    target_names=['normal','anormal']\n",
        "))\n",
        "\n",
        "# Matriz de confusão forçando as 2 classes\n",
        "cm = confusion_matrix(y_test, pred, labels=[0,1])\n",
        "disp = ConfusionMatrixDisplay(cm, display_labels=['normal','anormal'])\n",
        "disp.plot()\n",
        "plt.title('Matriz de Confusão')\n",
        "plt.show()\n"
      ],
      "id": "LfK_Sr4vsZs-"
    }
  ],
  "metadata": {
    "kernelspec": {
      "display_name": "Python 3",
      "name": "python3"
    },
    "colab": {
      "provenance": [],
      "gpuType": "T4"
    },
    "accelerator": "GPU"
  },
  "nbformat": 4,
  "nbformat_minor": 5
}